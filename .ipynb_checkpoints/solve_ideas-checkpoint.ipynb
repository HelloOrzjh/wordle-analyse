{
 "cells": [
  {
   "cell_type": "markdown",
   "id": "89719dcb",
   "metadata": {},
   "source": [
    "第2问:\n",
    "\n",
    "信息熵\n",
    "\n",
    "假设1：用户只选用valid_guesses数据集作为输入，其中valid_guesses数据集包含10658个单词，这些单词都有且仅有5个字母\n",
    "\n",
    "假设2：答案一定是valid_solutions数据集中的单词，其中valid_solutions数据集包含2315个单词，这些单词都有且仅有5个字母\n",
    "\n",
    "假设3：用户猜词次数近似正态分布\n",
    "\n",
    "枚举每个单词，计算当前输入可能得到的结果，并选取总信息熵最小的情况作为第一轮输入。后面几轮同理，一定要考虑困难模式的限制条件。\n",
    "\n",
    "为什么用信息熵？（补充一下信息熵的作用）\n",
    "\n",
    "考虑引入词频分析（每个单词作为答案的可能性不一定相同），我们利用COCA语料库获取含有5个字母的单词的词频信息，\n",
    "\n",
    "将信息熵与词频分析进行结合，获得优化后的信息熵计算方法。"
   ]
  },
  {
   "cell_type": "markdown",
   "id": "e6a7ee5a",
   "metadata": {},
   "source": [
    "Input: 单词集合G(代表用户的有效猜测单词集合)，单词集合S(代表答案的单词集合)\n",
    "\n",
    "Output: f(x) for all x $\\in$ S，f(x)代表对于每个答案的期望猜测次数\n",
    "\n",
    "1. 枚举系数alpha, beta(alpha为信息熵权值，beta为词频权值)\n",
    "\n",
    "2. 对S集中的所有单词进行一次wordle游戏，游戏流程如下：\n",
    "\n",
    "2.1 定义集合C(代表用户当前猜词集合)，刚开始C=G；定义status表示上一轮猜测单词的状态(格子是绿色黄色或者灰色)\n",
    "\n",
    "2.2 枚举C中每一个单词，计算该单词在不同情况(3^5=243种)下的信息熵entropy以及该单词本身的词频frequency\n",
    "\n",
    "2.3 计算权重$weight=alpha*entropy+beta*frequency$\n",
    "\n",
    "2.4 选取权重最大的单词进行一次猜测，并与谜底进行比较。根据该单词和比较结果，在集合C中筛选所有符合条件的单词，这些单词构成新的集合C'\n",
    "\n",
    "2.5 令C=C'，更新status，后几轮同理\n",
    "\n",
    "2.6 退出情况：若C中集合为空，则输出X；若6轮猜测后没猜出来(status不是全为绿色)，则输出X；若6轮内猜出来(status全为绿)，则输出猜测轮数"
   ]
  },
  {
   "cell_type": "markdown",
   "id": "68582a2d",
   "metadata": {},
   "source": [
    "problem 2:\n",
    "\n",
    "alpha:beta=1:1500左右，答案集中所有单词被猜到的期望次数4.219941348973607\n",
    "\n",
    "（1，2，3，4，5，6，X）的相关百分比: (0.0, 0.02932551319648094, 0.21700879765395895, 0.39002932551319647, 0.25806451612903225, 0.07917888563049853, 0.026392961876832845)\n",
    "\n",
    "模型和预测的不确定性：\n",
    "\n",
    "利用W检验，获取用户猜测单词次数中统计量W 0.8824514150619507，P值0.2375536859035492，与假设3（用户猜词次数近似正态分布）符合\n",
    "\n",
    "W检验（Shapiro-Wilk检验）：\n",
    "\n",
    "对调参后所有单词的猜测次数作为数据，计算统计量W，公式如下：\n",
    "\n",
    "$$\n",
    "W = \\frac{(\\sum_{i=1}^{n}a_i x_i)^2}{\\sum_{i=1}^{n}(x_i-\\bar{x})^2}\n",
    "$$\n",
    "\n",
    "其中x代表数据，对于a值，有\n",
    "\n",
    "$(\\sum_{i=1}^{n}a_i x_i)^2$ 是 $(n-1) {\\sigma}^2$ 的最佳线性无偏估计(best linear unbiased estimate, BLUE)，$\\sigma$是样本来自的正态分布的标准差\n",
    "\n",
    "当W值接近于1且显著水平大于0.05时，我们接受原假设，即数据呈正态分布\n",
    "\n",
    "通过预测熵获取不确定度uncertain_entropy = 0.3656731730797433，该值越低则预测越准确\n",
    "\n",
    "EERIE单词的预测:\n",
    "trace, \n",
    "shore, \n",
    "rifle, \n",
    "eyrie, \n",
    "eerie\n",
    "\n",
    "信心有多高：（计算alpha和beta的置信度）\n",
    "\n",
    "在置信水平为95%的情况下，结果落入置信区间的概率为0.9552238805970149。"
   ]
  },
  {
   "cell_type": "code",
   "execution_count": null,
   "id": "7178a5ec",
   "metadata": {},
   "outputs": [],
   "source": []
  },
  {
   "cell_type": "markdown",
   "id": "a58dfdf5",
   "metadata": {},
   "source": [
    "problem 3:\n",
    "\n",
    "模型：小范围内更改alpha和beta并进行多次实验取平均值（保留两位小数）。\n",
    "\n",
    "识别与每种分类相关联的给定单词的属性：大概就是题目给的数据集中的单词搞出来分难度就行。\n",
    "\n",
    "EERIE难度：4.955223880597015(更改alpha和beta(小范围内), 多次试验猜测次数取平均值)\n",
    "\n",
    "准确度按RMSE算，RMSE: 0.9739962555751842"
   ]
  },
  {
   "cell_type": "code",
   "execution_count": null,
   "id": "2f047cfe",
   "metadata": {},
   "outputs": [],
   "source": [
    "4.193320365529615"
   ]
  },
  {
   "cell_type": "markdown",
   "id": "cb697ca3",
   "metadata": {},
   "source": [
    "problem 1:\n",
    "\n",
    "ARIMA预测，2023-03-01预测报告结果区间估计为$[23636.835915, 34496.781659]$，点估计为28555.135983\n",
    "\n"
   ]
  },
  {
   "cell_type": "markdown",
   "id": "7f66fb10",
   "metadata": {},
   "source": [
    "EERIE难度：\n",
    "\n",
    "模型平均难度：4.209175\n",
    "\n",
    "模型最大难度：5.633663, coyly\n",
    "\n",
    "模型最小难度：3.520000, alien\n",
    "\n",
    "真实平均难度：4.193320\n",
    "\n",
    "真实最大难度：5.990000, parer\n",
    "\n",
    "真实最小难度：3.131313, train\n",
    "\n",
    "模型误差分析：\n",
    "\n",
    "    方差(var)：0.397143\n",
    "\n",
    "    标准差(std)：0.630193\n",
    "\n",
    "    MSE：0.112765\n",
    "\n",
    "    RMSE：0.335805\n",
    "    \n",
    "    R2：0.716061"
   ]
  }
 ],
 "metadata": {
  "kernelspec": {
   "display_name": "Python 3 (ipykernel)",
   "language": "python",
   "name": "python3"
  },
  "language_info": {
   "codemirror_mode": {
    "name": "ipython",
    "version": 3
   },
   "file_extension": ".py",
   "mimetype": "text/x-python",
   "name": "python",
   "nbconvert_exporter": "python",
   "pygments_lexer": "ipython3",
   "version": "3.10.8"
  }
 },
 "nbformat": 4,
 "nbformat_minor": 5
}
